{
 "cells": [
  {
   "cell_type": "code",
   "execution_count": 30,
   "metadata": {},
   "outputs": [],
   "source": [
    "import pandas as pd"
   ]
  },
  {
   "cell_type": "code",
   "execution_count": 31,
   "metadata": {},
   "outputs": [],
   "source": [
    "df = pd.read_excel('Records.xlsx')"
   ]
  },
  {
   "cell_type": "code",
   "execution_count": 32,
   "metadata": {},
   "outputs": [
    {
     "name": "stdout",
     "output_type": "stream",
     "text": [
      "Requirement already satisfied: openpyxl in c:\\programdata\\anaconda3\\lib\\site-packages (3.0.7)\n",
      "Requirement already satisfied: et-xmlfile in c:\\programdata\\anaconda3\\lib\\site-packages (from openpyxl) (1.0.1)\n"
     ]
    }
   ],
   "source": [
    "!pip install openpyxl\n"
   ]
  },
  {
   "cell_type": "code",
   "execution_count": 33,
   "metadata": {},
   "outputs": [
    {
     "data": {
      "text/html": [
       "<div>\n",
       "<style scoped>\n",
       "    .dataframe tbody tr th:only-of-type {\n",
       "        vertical-align: middle;\n",
       "    }\n",
       "\n",
       "    .dataframe tbody tr th {\n",
       "        vertical-align: top;\n",
       "    }\n",
       "\n",
       "    .dataframe thead th {\n",
       "        text-align: right;\n",
       "    }\n",
       "</style>\n",
       "<table border=\"1\" class=\"dataframe\">\n",
       "  <thead>\n",
       "    <tr style=\"text-align: right;\">\n",
       "      <th></th>\n",
       "      <th>Timestamp</th>\n",
       "      <th>Email Address</th>\n",
       "      <th>ضع صفحتك بالإجابة</th>\n",
       "      <th>Score</th>\n",
       "      <th>Column 3</th>\n",
       "    </tr>\n",
       "  </thead>\n",
       "  <tbody>\n",
       "    <tr>\n",
       "      <th>0</th>\n",
       "      <td>2025-03-08 18:31:18</td>\n",
       "      <td>br20231306@sva.edu.eg</td>\n",
       "      <td>https://basmala353.github.io/myfirstwebpage/</td>\n",
       "      <td>NaN</td>\n",
       "      <td>NaN</td>\n",
       "    </tr>\n",
       "    <tr>\n",
       "      <th>1</th>\n",
       "      <td>2025-03-08 18:33:02</td>\n",
       "      <td>ae20232347@sva.edu.eg</td>\n",
       "      <td>https://abdo20232347.github.io/my_repo/</td>\n",
       "      <td>NaN</td>\n",
       "      <td>NaN</td>\n",
       "    </tr>\n",
       "    <tr>\n",
       "      <th>2</th>\n",
       "      <td>2025-03-08 18:39:52</td>\n",
       "      <td>as20232312@sva.edu.eg</td>\n",
       "      <td>https://3mm0r.github.io/snakegame/</td>\n",
       "      <td>NaN</td>\n",
       "      <td>NaN</td>\n",
       "    </tr>\n",
       "    <tr>\n",
       "      <th>3</th>\n",
       "      <td>2025-03-08 18:47:53</td>\n",
       "      <td>am20234326@sva.edu.eg</td>\n",
       "      <td>https://abdullahmahmoud20234326.github.io/Firs...</td>\n",
       "      <td>NaN</td>\n",
       "      <td>NaN</td>\n",
       "    </tr>\n",
       "    <tr>\n",
       "      <th>4</th>\n",
       "      <td>2025-03-08 19:12:55</td>\n",
       "      <td>mennatarekhossny@gmail.com</td>\n",
       "      <td>https://mandoxl.github.io/mena/</td>\n",
       "      <td>NaN</td>\n",
       "      <td>NaN</td>\n",
       "    </tr>\n",
       "  </tbody>\n",
       "</table>\n",
       "</div>"
      ],
      "text/plain": [
       "            Timestamp               Email Address  \\\n",
       "0 2025-03-08 18:31:18       br20231306@sva.edu.eg   \n",
       "1 2025-03-08 18:33:02       ae20232347@sva.edu.eg   \n",
       "2 2025-03-08 18:39:52       as20232312@sva.edu.eg   \n",
       "3 2025-03-08 18:47:53       am20234326@sva.edu.eg   \n",
       "4 2025-03-08 19:12:55  mennatarekhossny@gmail.com   \n",
       "\n",
       "                                   ضع صفحتك بالإجابة  Score  Column 3  \n",
       "0       https://basmala353.github.io/myfirstwebpage/    NaN       NaN  \n",
       "1            https://abdo20232347.github.io/my_repo/    NaN       NaN  \n",
       "2                 https://3mm0r.github.io/snakegame/    NaN       NaN  \n",
       "3  https://abdullahmahmoud20234326.github.io/Firs...    NaN       NaN  \n",
       "4                    https://mandoxl.github.io/mena/    NaN       NaN  "
      ]
     },
     "execution_count": 33,
     "metadata": {},
     "output_type": "execute_result"
    }
   ],
   "source": [
    "df.head()"
   ]
  },
  {
   "cell_type": "code",
   "execution_count": 34,
   "metadata": {},
   "outputs": [],
   "source": [
    "df = df[df['ضع صفحتك بالإجابة'].str.contains(r'io', regex=True, na=False)].iloc[:,1:3].drop_duplicates(subset= \"ضع صفحتك بالإجابة\", keep=\"first\")\n",
    "df.to_excel('Without Duplication.xlsx', index = False)"
   ]
  },
  {
   "cell_type": "code",
   "execution_count": 35,
   "metadata": {},
   "outputs": [],
   "source": [
    "df = pd.read_excel(\"Without Duplication.xlsx\")"
   ]
  },
  {
   "cell_type": "code",
   "execution_count": 36,
   "metadata": {},
   "outputs": [],
   "source": [
    "with open('index.html', 'w', encoding=\"utf-8\") as fl:\n",
    "    fl.write(\"\"\"<head>\n",
    "    <meta charset=\"UTF-8\">\n",
    "    <meta name=\"viewport\" content=\"width=device-width, initial-scale=1\">\n",
    "    <title>Students' Projects</title>\n",
    "    <link rel=\"stylesheet\" href=\"Styles.css\">\n",
    "</head>\n",
    "    <body>\n",
    "        <img src=\"Logo.jpg\" alt=\"Image not found\">\n",
    "        <h1 style=\"padding: auto;\">Science Valley Academy Students' Home Pages (2025)</h1>\"\"\")\n",
    "    fl.write('\\n\\t\\t<div class=\"table-container\">\\n')\n",
    "    fl.write('\\t<table>\\n')\n",
    "    fl.write(\"\\t\\t<tr>\\n\")\n",
    "    fl.write(\"\\t\\t\\t<th>No.</th>\\n\")\n",
    "    fl.write(\"\\t\\t\\t<th>Email</th>\\n\")\n",
    "    fl.write(\"\\t\\t\\t<th>Home Page</th>\\n\")\n",
    "    fl.write(\"\\t\\t</tr>\\n\")\n",
    "    counter = 1\n",
    "    for i in df.index:\n",
    "        fl.write(\"\\t\\t<tr>\\n\")\n",
    "        # Serial\n",
    "        fl.write(\"\\t\\t\\t<td>\" + str(counter) + \"</td>\\n\")\n",
    "        counter += 1\n",
    "        # Email\n",
    "        fl.write(\"\\t\\t\\t<td>\" + df.loc[i][0] + \"</td>\\n\")\n",
    "        # URL\n",
    "        fl.write(\"\\t\\t\\t<td><a href=\" + df.loc[i][1] + \" target=_blank>\" + df.loc[i][1] +\"</a></td>\\n\")\n",
    "        fl.write(\"\\t\\t</tr>\\n\")\n",
    "    fl.write(\"\"\"</div></body>\n",
    "    </html>\"\"\")"
   ]
  },
  {
   "cell_type": "code",
   "execution_count": 37,
   "metadata": {},
   "outputs": [
    {
     "data": {
      "text/plain": [
       "'https://shamsmo246.github.io/MY-PAG/'"
      ]
     },
     "execution_count": 37,
     "metadata": {},
     "output_type": "execute_result"
    }
   ],
   "source": [
    "df.loc[i][1]"
   ]
  },
  {
   "cell_type": "code",
   "execution_count": 38,
   "metadata": {},
   "outputs": [
    {
     "data": {
      "text/plain": [
       "str"
      ]
     },
     "execution_count": 38,
     "metadata": {},
     "output_type": "execute_result"
    }
   ],
   "source": [
    "type(\"https://nesmasayed2004.github.io/mypage/(بعد التحديث)\")"
   ]
  },
  {
   "cell_type": "code",
   "execution_count": null,
   "metadata": {},
   "outputs": [],
   "source": []
  }
 ],
 "metadata": {
  "kernelspec": {
   "display_name": "Python 3",
   "language": "python",
   "name": "python3"
  },
  "language_info": {
   "codemirror_mode": {
    "name": "ipython",
    "version": 3
   },
   "file_extension": ".py",
   "mimetype": "text/x-python",
   "name": "python",
   "nbconvert_exporter": "python",
   "pygments_lexer": "ipython3",
   "version": "3.9.6"
  }
 },
 "nbformat": 4,
 "nbformat_minor": 2
}
